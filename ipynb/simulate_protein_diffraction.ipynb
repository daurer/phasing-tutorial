{
 "cells": [
  {
   "cell_type": "code",
   "execution_count": null,
   "metadata": {
    "collapsed": true
   },
   "outputs": [],
   "source": [
    "import h5py\n",
    "import condor\n",
    "import copy\n",
    "import numpy as np\n",
    "import condor.utils.linalg as linalg\n",
    "import matplotlib.pyplot as plt\n",
    "import matplotlib.colors as colors\n",
    "import matplotlib.cm as cm"
   ]
  },
  {
   "cell_type": "code",
   "execution_count": null,
   "metadata": {
    "collapsed": true
   },
   "outputs": [],
   "source": [
    "fullp_res_edge   = lambda det,w:  1./linalg.length(det.get_q_max(w, pos='edge')/(2*np.pi))\n",
    "fullp_res_corner = lambda det,w:  1./linalg.length(det.get_q_max(w, pos='corner')/(2*np.pi))"
   ]
  },
  {
   "cell_type": "code",
   "execution_count": null,
   "metadata": {
    "collapsed": true
   },
   "outputs": [],
   "source": [
    "def plot_diffraction(data, mask=None):\n",
    "    if mask is None:\n",
    "        mask = np.ones_like(data).astype(np.bool)\n",
    "    image = np.ma.array(np.copy(data).astype(np.float), mask=~mask)\n",
    "    image.data[image.data<0.5] = 1e-5\n",
    "    palette = copy.copy(cm.magma)\n",
    "    palette.set_bad('w', 1.)\n",
    "    palette.set_under('0.9',1.)\n",
    "    plt.figure()\n",
    "    plt.imshow(image, norm=colors.LogNorm(vmin=1), interpolation='none', cmap=palette)\n",
    "    plt.axis('off')\n",
    "    cb = plt.colorbar(pad=0)\n",
    "    cb.ax.set_ylabel('Intensity [photons / px]')\n",
    "    cb.outline.set_visible(False)\n",
    "    plt.tight_layout()\n",
    "    plt.show()"
   ]
  },
  {
   "cell_type": "markdown",
   "metadata": {},
   "source": [
    "# Parameters"
   ]
  },
  {
   "cell_type": "code",
   "execution_count": null,
   "metadata": {
    "collapsed": true
   },
   "outputs": [],
   "source": [
    "# Detector (pnCCD)\n",
    "pixelsize = 75e-6\n",
    "nx,ny = (1024,1024)\n",
    "detector_distance = 300e-3"
   ]
  },
  {
   "cell_type": "code",
   "execution_count": null,
   "metadata": {
    "collapsed": true
   },
   "outputs": [],
   "source": [
    "# Source\n",
    "photon_energy = 3500 # [eV]\n",
    "ph = condor.utils.photon.Photon(energy_eV=photon_energy)\n",
    "wavelength = ph.get_wavelength()\n",
    "fluence = 1e15 #[ph/um2]\n",
    "focus_diameter = 0.2e-6\n",
    "pulse_energy = fluence * ph.get_energy() * (np.pi*((1e6*focus_diameter/2.)**2)) # [J]"
   ]
  },
  {
   "cell_type": "code",
   "execution_count": null,
   "metadata": {
    "collapsed": false
   },
   "outputs": [],
   "source": [
    "# Sample\n",
    "pdb_id = '1FFK'\n",
    "sample_size = 18e-9"
   ]
  },
  {
   "cell_type": "markdown",
   "metadata": {},
   "source": [
    "# Run simulation"
   ]
  },
  {
   "cell_type": "code",
   "execution_count": null,
   "metadata": {
    "collapsed": false
   },
   "outputs": [],
   "source": [
    "src = condor.Source(wavelength=wavelength, pulse_energy=pulse_energy, focus_diameter=focus_diameter)\n",
    "det = condor.Detector(distance=detector_distance, pixel_size=pixelsize, nx=nx, ny=ny, noise=\"poisson\")\n",
    "par = condor.ParticleAtoms(pdb_id=pdb_id,rotation_formalism=\"random\")\n",
    "E = condor.Experiment(source=src, particles={\"particle_atoms\":par}, detector=det)\n",
    "o = E.propagate()"
   ]
  },
  {
   "cell_type": "markdown",
   "metadata": {},
   "source": [
    "# Output"
   ]
  },
  {
   "cell_type": "code",
   "execution_count": null,
   "metadata": {
    "collapsed": false
   },
   "outputs": [],
   "source": [
    "print \"Photon energy: %d eV\" %photon_energy\n",
    "print \"Fluence: %g ph/um2\" %fluence\n",
    "print \"Pulse energy: %.4f mJ\" %(1e3*pulse_energy)\n",
    "print \"Sample size: %d nm\" %(1e9*sample_size)\n",
    "print \"Detector distance: %d mm\" %(1e3*detector_distance)\n",
    "print \"Full period resolution (corner): %.2f nm\" %(1e9*fullp_res_corner(det,wavelength))\n",
    "print \"Full period resolution (edge): %.2f nm\" %(1e9*fullp_res_edge(det,wavelength))\n",
    "print \"Nr. of resolution elements: %.2f\" %(sample_size / fullp_res_corner(det,wavelength)*2)\n",
    "plot_diffraction(o['entry_1']['data_1']['data'])\n",
    "print \"\\n\""
   ]
  },
  {
   "cell_type": "markdown",
   "metadata": {},
   "source": [
    "# Write to CXI file"
   ]
  },
  {
   "cell_type": "code",
   "execution_count": null,
   "metadata": {
    "collapsed": true
   },
   "outputs": [],
   "source": [
    "W = condor.utils.cxiwriter.CXIWriter(\"../data/single_diffraction_pattern.h5\")\n",
    "W.write(o)\n",
    "W.close()"
   ]
  }
 ],
 "metadata": {
  "kernelspec": {
   "display_name": "Python 2",
   "language": "python",
   "name": "python2"
  },
  "language_info": {
   "codemirror_mode": {
    "name": "ipython",
    "version": 2
   },
   "file_extension": ".py",
   "mimetype": "text/x-python",
   "name": "python",
   "nbconvert_exporter": "python",
   "pygments_lexer": "ipython2",
   "version": "2.7.10"
  }
 },
 "nbformat": 4,
 "nbformat_minor": 1
}
